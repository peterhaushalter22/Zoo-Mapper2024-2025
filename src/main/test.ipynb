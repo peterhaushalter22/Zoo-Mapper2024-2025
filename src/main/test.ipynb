{
 "cells": [
  {
   "cell_type": "code",
   "execution_count": 2,
   "metadata": {},
   "outputs": [],
   "source": [
    "import tkinter as tk\n",
    "\n",
    "app = tk.Tk()\n",
    "app.title('List box')\n",
    "\n",
    "    \"\"\"_summary_\n",
    "    Note This is Jupiter notebook code that requires a jupiter python environemnt.\n",
    "\n",
    "    \"\"\"\n",
    "def clicked():\n",
    "    print(\"clicked\")\n",
    "    selected = box.curselection()  # returns a tuple\n",
    "    for idx in selected:\n",
    "        print(box.get(idx))\n",
    "\n",
    "box = tk.Listbox(app, selectmode=tk.MULTIPLE, height=4)\n",
    "values = ['Red', 'Green', 'Blue', 'Purple', 'Yellow', 'Orange', 'Black', 'White']\n",
    "for val in values:\n",
    "    box.insert(tk.END, val)\n",
    "box.pack()\n",
    "\n",
    "button = tk.Button(app, text='Show', width=25, command=clicked)\n",
    "button.pack()\n",
    "\n",
    "exit_button = tk.Button(app, text='Close', width=25, command=app.destroy)\n",
    "exit_button.pack()\n",
    "\n",
    "app.mainloop()\n"
   ]
  }
 ],
 "metadata": {
  "interpreter": {
   "hash": "6ae0c22c096cf912027336b166abf37ab4ad484d02de68fa86080dc45c1de523"
  },
  "kernelspec": {
   "display_name": "Python 3.8.8 ('base')",
   "language": "python",
   "name": "python3"
  },
  "language_info": {
   "codemirror_mode": {
    "name": "ipython",
    "version": 3
   },
   "file_extension": ".py",
   "mimetype": "text/x-python",
   "name": "python",
   "nbconvert_exporter": "python",
   "pygments_lexer": "ipython3",
   "version": "3.8.8"
  },
  "orig_nbformat": 4
 },
 "nbformat": 4,
 "nbformat_minor": 2
}
